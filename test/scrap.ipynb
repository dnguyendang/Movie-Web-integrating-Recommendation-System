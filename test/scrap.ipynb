{
 "cells": [
  {
   "cell_type": "code",
   "execution_count": 1,
   "metadata": {},
   "outputs": [],
   "source": [
    "import requests\n",
    "import csv\n",
    "from bs4 import BeautifulSoup\n",
    "import pandas as pd"
   ]
  },
  {
   "cell_type": "code",
   "execution_count": 2,
   "metadata": {},
   "outputs": [],
   "source": [
    "base_url = \"https://watchseriestv.top/movie?page=\"\n",
    "num_page = 3"
   ]
  },
  {
   "cell_type": "code",
   "execution_count": 3,
   "metadata": {},
   "outputs": [],
   "source": [
    "movie_data = []\n",
    "#create url for each page \n",
    "for page_num in range(1, num_page+1):\n",
    "    url = base_url + str(page_num)\n",
    "    response = requests.get(url)\n",
    "    soup = BeautifulSoup(response.text, \"html\")\n",
    "\n",
    "    #access to each movie site\n",
    "    movie_links = soup.find_all(\"a\", class_=\"film-poster-ahref flw-item-tip\")\n",
    "    for link in movie_links:\n",
    "        link = \"https://watchseriestv.top/\" + link[\"href\"]\n",
    "        movie_response = requests.get(link)\n",
    "        movie_soup = BeautifulSoup(movie_response.text, \"html.parser\")\n",
    "        \n",
    "        #info movie\n",
    "        movie_title = movie_soup.find(\"h2\", class_=\"heading-name\").text\n",
    "        movie_description = movie_soup.find(\"div\", class_=\"description\").text.replace(\"\\n\", \"\").strip()\n",
    "        \n",
    "        row_line = movie_soup.find_all(\"div\", class_=\"row-line\")\n",
    "        movie_release_date = row_line[0].text.replace(\"\\n\", \"\").split(':  ')[-1].strip()\n",
    "        movie_genres = [genre.text for genre in row_line[1].find_all(\"a\")]\n",
    "        movie_actors = [actor.text for actor in row_line[2].find_all(\"a\")]\n",
    "        movie_duration = row_line[3].text.replace(\"\\n\",\"\").split(\"  \")[1].strip()\n",
    "        movie_country = row_line[4].text.split('\\n')[2]       \n",
    "        movie_productions = [production.text for production in row_line[5].find_all(\"a\")] \n",
    "        movie_img_url = movie_soup.find(\"img\", class_=\"film-poster-img\")[\"src\"]\n",
    "\n",
    "        #add movie_data list \n",
    "        movie_data.append({'title':movie_title, 'description':movie_description, 'release_date':movie_release_date, 'genres':movie_genres, 'actors':movie_actors, 'duration':movie_duration, 'country':movie_country, 'productions':movie_productions, 'img_url':movie_img_url})\n"
   ]
  },
  {
   "cell_type": "code",
   "execution_count": 12,
   "metadata": {},
   "outputs": [],
   "source": [
    "movie_data = pd.DataFrame(movie_data)\n",
    "movie_data.to_csv('movies.csv')\n"
   ]
  },
  {
   "cell_type": "code",
   "execution_count": null,
   "metadata": {},
   "outputs": [],
   "source": []
  }
 ],
 "metadata": {
  "kernelspec": {
   "display_name": "Python 3",
   "language": "python",
   "name": "python3"
  },
  "language_info": {
   "codemirror_mode": {
    "name": "ipython",
    "version": 3
   },
   "file_extension": ".py",
   "mimetype": "text/x-python",
   "name": "python",
   "nbconvert_exporter": "python",
   "pygments_lexer": "ipython3",
   "version": "3.11.5"
  }
 },
 "nbformat": 4,
 "nbformat_minor": 2
}
