{
 "cells": [
  {
   "cell_type": "code",
   "execution_count": 2,
   "metadata": {},
   "outputs": [],
   "source": [
    "import requests\n",
    "import csv\n",
    "from bs4 import BeautifulSoup\n",
    "import pandas as pd "
   ]
  },
  {
   "cell_type": "code",
   "execution_count": 3,
   "metadata": {},
   "outputs": [],
   "source": [
    "base_url = \"https://watchseriestv.top/movie?page=\"\n",
    "num_page = 10"
   ]
  },
  {
   "cell_type": "code",
   "execution_count": 4,
   "metadata": {},
   "outputs": [
    {
     "data": {
      "text/plain": [
       "[<a class=\"film-poster-ahref flw-item-tip\" href=\"/movie/watch-sick-girl-full-online-101953\" title=\"Sick Girl\"><i class=\"fa fa-play\"></i></a>,\n",
       " <a class=\"film-poster-ahref flw-item-tip\" href=\"/movie/watch-under-the-christmas-sky-full-online-101950\" title=\"Under the Christmas Sky\"><i class=\"fa fa-play\"></i></a>,\n",
       " <a class=\"film-poster-ahref flw-item-tip\" href=\"/movie/watch-the-after-full-online-101947\" title=\"The After\"><i class=\"fa fa-play\"></i></a>,\n",
       " <a class=\"film-poster-ahref flw-item-tip\" href=\"/movie/watch-debbie-does-demons-full-online-101944\" title=\"Debbie Does Demons\"><i class=\"fa fa-play\"></i></a>,\n",
       " <a class=\"film-poster-ahref flw-item-tip\" href=\"/movie/watch-burning-betrayal-full-online-101941\" title=\"Burning Betrayal\"><i class=\"fa fa-play\"></i></a>,\n",
       " <a class=\"film-poster-ahref flw-item-tip\" href=\"/movie/watch-a-town-full-of-ghosts-full-online-101938\" title=\"A Town Full of Ghosts\"><i class=\"fa fa-play\"></i></a>,\n",
       " <a class=\"film-poster-ahref flw-item-tip\" href=\"/movie/watch-the-neighbors-are-watching-full-online-101929\" title=\"The Neighbors Are Watching\"><i class=\"fa fa-play\"></i></a>,\n",
       " <a class=\"film-poster-ahref flw-item-tip\" href=\"/movie/watch-zainab-johnson-hijabs-off-full-online-101926\" title=\"Zainab Johnson: Hijabs Off\"><i class=\"fa fa-play\"></i></a>,\n",
       " <a class=\"film-poster-ahref flw-item-tip\" href=\"/movie/watch-the-royal-hotel-full-online-101923\" rel='\"nofollow\"' title=\"The Royal Hotel\"><i class=\"fa fa-play\"></i></a>,\n",
       " <a class=\"film-poster-ahref flw-item-tip\" href=\"/movie/watch-shrapnel-full-online-101920\" title=\"Shrapnel\"><i class=\"fa fa-play\"></i></a>,\n",
       " <a class=\"film-poster-ahref flw-item-tip\" href=\"/movie/watch-pete-holmes-i-am-not-for-everyone-full-online-101917\" title=\"Pete Holmes: I Am Not for Everyone\"><i class=\"fa fa-play\"></i></a>,\n",
       " <a class=\"film-poster-ahref flw-item-tip\" href=\"/movie/watch-milli-vanilli-full-online-101914\" title=\"Milli Vanilli\"><i class=\"fa fa-play\"></i></a>,\n",
       " <a class=\"film-poster-ahref flw-item-tip\" href=\"/movie/watch-hot-potato-the-story-of-the-wiggles-full-online-101911\" title=\"Hot Potato: The Story of The Wiggles\"><i class=\"fa fa-play\"></i></a>,\n",
       " <a class=\"film-poster-ahref flw-item-tip\" href=\"/movie/watch-forgotten-experiment-full-online-101908\" title=\"Forgotten Experiment\"><i class=\"fa fa-play\"></i></a>,\n",
       " <a class=\"film-poster-ahref flw-item-tip\" href=\"/movie/watch-where-are-you-christmas-full-online-101887\" rel='\"nofollow\"' title=\"Where Are You, Christmas?\"><i class=\"fa fa-play\"></i></a>,\n",
       " <a class=\"film-poster-ahref flw-item-tip\" href=\"/movie/watch-tripped-up-full-online-101884\" title=\"Tripped Up\"><i class=\"fa fa-play\"></i></a>,\n",
       " <a class=\"film-poster-ahref flw-item-tip\" href=\"/movie/watch-the-quantum-devil-full-online-101881\" title=\"The Quantum Devil\"><i class=\"fa fa-play\"></i></a>,\n",
       " <a class=\"film-poster-ahref flw-item-tip\" href=\"/movie/watch-perfect-harmony-full-online-101878\" title=\"Perfect Harmony\"><i class=\"fa fa-play\"></i></a>,\n",
       " <a class=\"film-poster-ahref flw-item-tip\" href=\"/movie/watch-killers-of-the-flower-moon-full-online-101875\" rel='\"nofollow\"' title=\"Killers of the Flower Moon\"><i class=\"fa fa-play\"></i></a>,\n",
       " <a class=\"film-poster-ahref flw-item-tip\" href=\"/movie/watch-i-will-not-take-care-of-you-full-online-101872\" title=\"I will not take care of you.\"><i class=\"fa fa-play\"></i></a>,\n",
       " <a class=\"film-poster-ahref flw-item-tip\" href=\"/movie/watch-flakka-zombie-drug-full-online-101869\" title=\"Flakka Zombie Drug\"><i class=\"fa fa-play\"></i></a>,\n",
       " <a class=\"film-poster-ahref flw-item-tip\" href=\"/movie/watch-checkin-it-twice-full-online-101866\" title=\"Checkin' It Twice\"><i class=\"fa fa-play\"></i></a>,\n",
       " <a class=\"film-poster-ahref flw-item-tip\" href=\"/movie/watch-bad-romance-the-vicky-white-story-full-online-101863\" title=\"Bad Romance: The Vicky White Story\"><i class=\"fa fa-play\"></i></a>,\n",
       " <a class=\"film-poster-ahref flw-item-tip\" href=\"/movie/watch-apocalypse-clown-full-online-101860\" title=\"Apocalypse Clown\"><i class=\"fa fa-play\"></i></a>,\n",
       " <a class=\"film-poster-ahref flw-item-tip\" href=\"/movie/watch-aka-mr-chow-full-online-101857\" title=\"aka Mr. Chow\"><i class=\"fa fa-play\"></i></a>,\n",
       " <a class=\"film-poster-ahref flw-item-tip\" href=\"/movie/watch-tom-petty-somewhere-you-feel-free-full-online-101842\" title=\"Tom Petty, Somewhere You Feel Free\"><i class=\"fa fa-play\"></i></a>,\n",
       " <a class=\"film-poster-ahref flw-item-tip\" href=\"/movie/watch-party-dream-full-online-101839\" title=\"Party Dream\"><i class=\"fa fa-play\"></i></a>,\n",
       " <a class=\"film-poster-ahref flw-item-tip\" href=\"/movie/watch-how-to-tame-an-elephant-full-online-101836\" title=\"How To Tame An Elephant\"><i class=\"fa fa-play\"></i></a>,\n",
       " <a class=\"film-poster-ahref flw-item-tip\" href=\"/movie/watch-the-quachita-beast-incident-full-online-101833\" title=\"The Quachita Beast Incident\"><i class=\"fa fa-play\"></i></a>,\n",
       " <a class=\"film-poster-ahref flw-item-tip\" href=\"/movie/watch-field-day-full-online-101830\" title=\"Field Day\"><i class=\"fa fa-play\"></i></a>,\n",
       " <a class=\"film-poster-ahref flw-item-tip\" href=\"/movie/watch-destined-2-christmas-once-more-full-online-101827\" title=\"Destined 2: Christmas Once More\"><i class=\"fa fa-play\"></i></a>,\n",
       " <a class=\"film-poster-ahref flw-item-tip\" href=\"/movie/watch-baked-with-a-kiss-full-online-101824\" title=\"Baked with a Kiss\"><i class=\"fa fa-play\"></i></a>]"
      ]
     },
     "execution_count": 4,
     "metadata": {},
     "output_type": "execute_result"
    }
   ],
   "source": [
    "movie_data = []\n",
    "#create url for each page \n",
    "\n",
    "url = base_url + str(1)\n",
    "response = requests.get(url)\n",
    "soup = BeautifulSoup(response.text, \"html\")\n",
    "\n",
    "#access to each movie site\n",
    "movie_links = soup.find_all(\"a\", class_=\"film-poster-ahref flw-item-tip\")\n",
    "movie_links"
   ]
  },
  {
   "cell_type": "code",
   "execution_count": 7,
   "metadata": {},
   "outputs": [],
   "source": [
    "\n",
    "link = \"https://watchseriestv.top/\" + movie_links[1][\"href\"]\n",
    "movie_response = requests.get(link)\n",
    "movie_soup = BeautifulSoup(movie_response.text, \"html.parser\")\n"
   ]
  },
  {
   "cell_type": "code",
   "execution_count": 9,
   "metadata": {},
   "outputs": [
    {
     "data": {
      "text/plain": [
       "'Under the Christmas Sky'"
      ]
     },
     "execution_count": 9,
     "metadata": {},
     "output_type": "execute_result"
    }
   ],
   "source": [
    "movie_title = movie_soup.find(\"h2\", class_=\"heading-name\").text\n",
    "movie_title"
   ]
  },
  {
   "cell_type": "code",
   "execution_count": 17,
   "metadata": {},
   "outputs": [
    {
     "data": {
      "text/plain": [
       "'https://img.watchseriestv.top/xxrz/250x400/228/65/87/6587145ae747be453236daf1e3c8f29c/6587145ae747be453236daf1e3c8f29c.jpg'"
      ]
     },
     "execution_count": 17,
     "metadata": {},
     "output_type": "execute_result"
    }
   ],
   "source": [
    "movie_img = movie_soup.find(\"img\", class_=\"film-poster-img\")\n",
    "movie_img[\"src\"]"
   ]
  },
  {
   "cell_type": "code",
   "execution_count": null,
   "metadata": {},
   "outputs": [],
   "source": [
    "\n",
    "for link in movie_links:\n",
    "    link = \"https://watchseriestv.top/\" + link[\"href\"]\n",
    "    movie_response = requests.get(link)\n",
    "    movie_soup = BeautifulSoup(movie_response.text, \"html.parser\")\n",
    "    \n",
    "    #info movie\n",
    "    movie_title = movie_soup.find(\"h2\", class_=\"heading-name\").text\n",
    "    movie_description = movie_soup.find(\"div\", class_=\"description\").text.replace(\"\\n\", \"\").strip()\n",
    "    \n",
    "    row_line = movie_soup.find_all(\"div\", class_=\"row-line\")\n",
    "    movie_release_date = row_line[0].text.replace(\"\\n\", \"\").split(':  ')[-1].strip()\n",
    "    movie_genres = [genre.text for genre in row_line[1].find_all(\"a\")]\n",
    "    movie_actors = [actor.text for actor in row_line[2].find_all(\"a\")]\n",
    "    movie_duration = row_line[3].text.replace(\"\\n\",\"\").split(\"  \")[1].strip()\n",
    "    movie_country = row_line[4].text.split('\\n')[2]       \n",
    "    movie_productions = [production.text for production in row_line[5].find_all(\"a\")] \n",
    "\n",
    "    #add movie_data list \n",
    "    movie_data.append({'title':movie_title, 'description':movie_description, 'release_date':movie_release_date, 'genres':movie_genres, 'actors':movie_actors, 'duration':movie_duration, 'country':movie_country, 'productions':movie_productions})\n"
   ]
  },
  {
   "cell_type": "code",
   "execution_count": 6,
   "metadata": {},
   "outputs": [],
   "source": [
    "movie_data = []\n",
    "#create url for each page \n",
    "for page_num in range(1, num_page+1):\n",
    "    url = base_url + str(page_num)\n",
    "    response = requests.get(url)\n",
    "    soup = BeautifulSoup(response.text, \"html\")\n",
    "\n",
    "    #access to each movie site\n",
    "    movie_links = soup.find_all(\"a\", class_=\"film-poster-ahref flw-item-tip\")\n",
    "    for link in movie_links:\n",
    "        link = \"https://watchseriestv.top/\" + link[\"href\"]\n",
    "        movie_response = requests.get(link)\n",
    "        movie_soup = BeautifulSoup(movie_response.text, \"html.parser\")\n",
    "        \n",
    "        #info movie\n",
    "        movie_title = movie_soup.find(\"h2\", class_=\"heading-name\").text\n",
    "        movie_description = movie_soup.find(\"div\", class_=\"description\").text.replace(\"\\n\", \"\").strip()\n",
    "        \n",
    "        row_line = movie_soup.find_all(\"div\", class_=\"row-line\")\n",
    "        movie_release_date = row_line[0].text.replace(\"\\n\", \"\").split(':  ')[-1].strip()\n",
    "        movie_genres = [genre.text for genre in row_line[1].find_all(\"a\")]\n",
    "        movie_actors = [actor.text for actor in row_line[2].find_all(\"a\")]\n",
    "        movie_duration = row_line[3].text.replace(\"\\n\",\"\").split(\"  \")[1].strip()\n",
    "        movie_country = row_line[4].text.split('\\n')[2]       \n",
    "        movie_productions = [production.text for production in row_line[5].find_all(\"a\")] \n",
    "\n",
    "        #add movie_data list \n",
    "        movie_data.append({'title':movie_title, 'description':movie_description, 'release_date':movie_release_date, 'genres':movie_genres, 'actors':movie_actors, 'duration':movie_duration, 'country':movie_country, 'productions':movie_productions})\n"
   ]
  },
  {
   "cell_type": "code",
   "execution_count": 27,
   "metadata": {},
   "outputs": [],
   "source": [
    "df = pd.read_csv('movies_data.csv')"
   ]
  },
  {
   "cell_type": "code",
   "execution_count": 32,
   "metadata": {},
   "outputs": [],
   "source": [
    "df.dropna(subset=['release_date'], inplace=True)"
   ]
  },
  {
   "cell_type": "code",
   "execution_count": 33,
   "metadata": {},
   "outputs": [
    {
     "data": {
      "text/plain": [
       "0"
      ]
     },
     "execution_count": 33,
     "metadata": {},
     "output_type": "execute_result"
    }
   ],
   "source": [
    "df['release_date'].isna().sum()"
   ]
  },
  {
   "cell_type": "code",
   "execution_count": 34,
   "metadata": {},
   "outputs": [],
   "source": [
    "df.to_csv('movies.csv')"
   ]
  },
  {
   "cell_type": "code",
   "execution_count": 1,
   "metadata": {},
   "outputs": [],
   "source": [
    "from random import randint\n",
    "from datetime import datetime, timedelta\n",
    "import random\n"
   ]
  },
  {
   "cell_type": "code",
   "execution_count": 5,
   "metadata": {},
   "outputs": [
    {
     "name": "stdout",
     "output_type": "stream",
     "text": [
      "2021-01-23 12:08:54.264772\n"
     ]
    }
   ],
   "source": [
    "current_time = datetime.now()\n",
    "time_delta = timedelta(days=random.randint(1,1825))\n",
    "random_time = current_time - time_delta \n",
    "print(random_time)"
   ]
  },
  {
   "cell_type": "code",
   "execution_count": null,
   "metadata": {},
   "outputs": [],
   "source": []
  },
  {
   "cell_type": "code",
   "execution_count": 1,
   "metadata": {},
   "outputs": [],
   "source": [
    "import requests\n",
    "from PIL import Image\n",
    "from io import BytesIO"
   ]
  },
  {
   "cell_type": "code",
   "execution_count": 2,
   "metadata": {},
   "outputs": [
    {
     "name": "stdout",
     "output_type": "stream",
     "text": [
      "ok\n"
     ]
    }
   ],
   "source": [
    "image_url = \"https://img.watchseriestv.top/xxrz/250x400/228/24/5f/245f4bc3c523335a39dce275292c424c/245f4bc3c523335a39dce275292c424c.jpg\"\n",
    "response = requests.get(image_url)\n",
    "\n",
    "if response.status_code == 200:\n",
    "    image = Image.open(BytesIO(response.content))\n",
    "    image.save(\"1.jpg\")\n",
    "    print(\"ok\")\n",
    "else:\n",
    "    print(\"failure\")"
   ]
  },
  {
   "cell_type": "code",
   "execution_count": null,
   "metadata": {},
   "outputs": [],
   "source": []
  }
 ],
 "metadata": {
  "kernelspec": {
   "display_name": "Python 3",
   "language": "python",
   "name": "python3"
  },
  "language_info": {
   "codemirror_mode": {
    "name": "ipython",
    "version": 3
   },
   "file_extension": ".py",
   "mimetype": "text/x-python",
   "name": "python",
   "nbconvert_exporter": "python",
   "pygments_lexer": "ipython3",
   "version": "3.11.5"
  }
 },
 "nbformat": 4,
 "nbformat_minor": 2
}
